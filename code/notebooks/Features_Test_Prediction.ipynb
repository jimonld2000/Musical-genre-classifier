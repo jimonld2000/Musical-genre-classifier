{
 "cells": [
  {
   "cell_type": "code",
   "execution_count": 2,
   "metadata": {},
   "outputs": [],
   "source": [
    "import librosa\n",
    "import numpy as np\n",
    "import joblib\n",
    "import torch\n",
    "from sklearn.preprocessing import StandardScaler\n",
    "import torch.nn as nn\n"
   ]
  },
  {
   "cell_type": "code",
   "execution_count": 3,
   "metadata": {},
   "outputs": [],
   "source": [
    "\n",
    "# Define the CNN model (as used previously)\n",
    "class SimpleCNN(nn.Module):\n",
    "    def __init__(self, input_dim, num_classes=10):\n",
    "        super(SimpleCNN, self).__init__()\n",
    "        self.conv1 = nn.Conv1d(in_channels=1, out_channels=32, kernel_size=3, padding=1)\n",
    "        self.conv2 = nn.Conv1d(in_channels=32, out_channels=64, kernel_size=3, padding=1)\n",
    "        self.pool = nn.MaxPool1d(kernel_size=2, stride=2)\n",
    "        self.fc1 = nn.Linear(64 * (input_dim // 4), 128)  # Adjust according to the input dimension\n",
    "        self.fc2 = nn.Linear(128, num_classes)\n",
    "        self.relu = nn.ReLU()\n",
    "\n",
    "    def forward(self, x):\n",
    "        x = self.relu(self.conv1(x))\n",
    "        x = self.pool(x)\n",
    "        x = self.relu(self.conv2(x))\n",
    "        x = self.pool(x)\n",
    "        x = x.view(x.size(0), -1)\n",
    "        x = self.relu(self.fc1(x))\n",
    "        x = self.fc2(x)\n",
    "        return torch.log_softmax(x, dim=1)\n",
    "\n"
   ]
  },
  {
   "cell_type": "code",
   "execution_count": 4,
   "metadata": {},
   "outputs": [],
   "source": [
    "# Load the trained Random Forest model\n",
    "rf_model = joblib.load('random_forest_3_sec.pkl')"
   ]
  },
  {
   "cell_type": "code",
   "execution_count": 5,
   "metadata": {},
   "outputs": [],
   "source": [
    "# Load the trained CNN model\n",
    "input_dim = 57  # Assuming 57 features\n",
    "num_classes = 10  # Number of genre classes\n",
    "cnn_model = SimpleCNN(input_dim=input_dim, num_classes=num_classes)\n",
    "cnn_model.load_state_dict(torch.load('cnn_model.pth'))\n",
    "cnn_model.eval()\n",
    "\n",
    "# Load the scaler used during training\n",
    "scaler = joblib.load('scaler_3_sec.pkl')\n",
    "# Load label encoder\n",
    "label_encoder = joblib.load('y_3_sec_encoded.pkl')\n"
   ]
  },
  {
   "cell_type": "code",
   "execution_count": 6,
   "metadata": {},
   "outputs": [],
   "source": [
    "def extract_features_from_file(file_path):\n",
    "    y, sr = librosa.load(file_path, sr=None)\n",
    "    features = []\n",
    "\n",
    "    # Extract features\n",
    "    chroma_stft = librosa.feature.chroma_stft(y=y, sr=sr)\n",
    "    rms = librosa.feature.rms(y=y)\n",
    "    spectral_centroid = librosa.feature.spectral_centroid(y=y, sr=sr)\n",
    "    spectral_bandwidth = librosa.feature.spectral_bandwidth(y=y, sr=sr)\n",
    "    rolloff = librosa.feature.spectral_rolloff(y=y, sr=sr)\n",
    "    zero_crossing_rate = librosa.feature.zero_crossing_rate(y)\n",
    "    harmony = librosa.effects.harmonic(y)\n",
    "    perceptr = librosa.effects.percussive(y)\n",
    "    tempo = librosa.beat.tempo(y=y, sr=sr)[0]\n",
    "\n",
    "    mfcc = librosa.feature.mfcc(y=y, sr=sr, n_mfcc=20)\n",
    "\n",
    "    # Aggregate statistics for each feature\n",
    "    features.extend([\n",
    "        chroma_stft.mean(), chroma_stft.var(),\n",
    "        rms.mean(), rms.var(),\n",
    "        spectral_centroid.mean(), spectral_centroid.var(),\n",
    "        spectral_bandwidth.mean(), spectral_bandwidth.var(),\n",
    "        rolloff.mean(), rolloff.var(),\n",
    "        zero_crossing_rate.mean(), zero_crossing_rate.var(),\n",
    "        harmony.mean(), harmony.var(),\n",
    "        perceptr.mean(), perceptr.var(),\n",
    "        tempo\n",
    "    ])\n",
    "\n",
    "    # Add mean and variance for each MFCC\n",
    "    for i in range(20):\n",
    "        features.append(mfcc[i].mean())\n",
    "        features.append(mfcc[i].var())\n",
    "\n",
    "    return np.array(features)"
   ]
  },
  {
   "cell_type": "code",
   "execution_count": 7,
   "metadata": {},
   "outputs": [],
   "source": [
    "# Predict Genre Function\n",
    "def predict_genre(file_path):\n",
    "    features = extract_features_from_file(file_path)\n",
    "    \n",
    "    if features is None:\n",
    "        return None, None\n",
    "\n",
    "    features_scaled = scaler.transform([features])\n",
    "\n",
    "    rf_prediction = rf_model.predict(features_scaled)\n",
    "    rf_genre = label_encoder.inverse_transform(rf_prediction)[0]\n",
    "\n",
    "    features_tensor = torch.tensor(features_scaled, dtype=torch.float32).unsqueeze(1)\n",
    "    cnn_output = cnn_model(features_tensor)\n",
    "    cnn_prediction = torch.argmax(cnn_output, dim=1)\n",
    "    cnn_genre = label_encoder.inverse_transform(cnn_prediction.detach().numpy())[0]\n",
    "\n",
    "    return rf_genre, cnn_genre"
   ]
  },
  {
   "cell_type": "code",
   "execution_count": 11,
   "metadata": {},
   "outputs": [
    {
     "name": "stderr",
     "output_type": "stream",
     "text": [
      "C:\\Users\\jimon\\AppData\\Local\\Temp\\ipykernel_22332\\3580634709.py:14: FutureWarning: librosa.beat.tempo\n",
      "\tThis function was moved to 'librosa.feature.rhythm.tempo' in librosa version 0.10.0.\n",
      "\tThis alias will be removed in librosa version 1.0.\n",
      "  tempo = librosa.beat.tempo(y=y, sr=sr)[0]\n"
     ]
    },
    {
     "name": "stdout",
     "output_type": "stream",
     "text": [
      "Random Forest Prediction: hiphop\n",
      "CNN Prediction: pop\n"
     ]
    },
    {
     "name": "stderr",
     "output_type": "stream",
     "text": [
      "C:\\ProgramData\\anaconda3\\envs\\tfd10\\lib\\site-packages\\sklearn\\base.py:493: UserWarning: X does not have valid feature names, but StandardScaler was fitted with feature names\n",
      "  warnings.warn(\n"
     ]
    }
   ],
   "source": [
    "# Example usage\n",
    "file_path = 'C:/Users/jimon/Music/UNLIMITED LOVE RHCP-20220327T134231Z-001/UNLIMITED LOVE RHCP/03 Aquatic Mouth Dance.wav'\n",
    "rf_genre, cnn_genre = predict_genre(file_path)\n",
    "if rf_genre and cnn_genre:\n",
    "    print(f'Random Forest Prediction: {rf_genre}')\n",
    "    print(f'CNN Prediction: {cnn_genre}')\n",
    "else:\n",
    "    print(\"Failed to predict genre.\")"
   ]
  },
  {
   "cell_type": "code",
   "execution_count": null,
   "metadata": {},
   "outputs": [],
   "source": []
  }
 ],
 "metadata": {
  "kernelspec": {
   "display_name": "Python 3 (ipykernel)",
   "language": "python",
   "name": "python3"
  },
  "language_info": {
   "codemirror_mode": {
    "name": "ipython",
    "version": 3
   },
   "file_extension": ".py",
   "mimetype": "text/x-python",
   "name": "python",
   "nbconvert_exporter": "python",
   "pygments_lexer": "ipython3",
   "version": "3.10.14"
  }
 },
 "nbformat": 4,
 "nbformat_minor": 4
}
